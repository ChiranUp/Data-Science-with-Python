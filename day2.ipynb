{
 "cells": [
  {
   "cell_type": "code",
   "execution_count": 1,
   "id": "478573cb-7e35-4584-a4d1-136122527b9c",
   "metadata": {},
   "outputs": [
    {
     "name": "stdout",
     "output_type": "stream",
     "text": [
      "8\n"
     ]
    }
   ],
   "source": [
    "#Arithmetic Operations\n",
    "x= 5 \n",
    "x+= 3\n",
    "print(x)"
   ]
  },
  {
   "cell_type": "code",
   "execution_count": 2,
   "id": "20f057fb-751e-4cf1-ba40-22d705835303",
   "metadata": {},
   "outputs": [
    {
     "name": "stdout",
     "output_type": "stream",
     "text": [
      "6\n"
     ]
    }
   ],
   "source": [
    "x-=2\n",
    "print(x)"
   ]
  },
  {
   "cell_type": "code",
   "execution_count": 3,
   "id": "8c5d7fc6-a62b-4ad6-b4a4-d547fafe6863",
   "metadata": {},
   "outputs": [
    {
     "name": "stdout",
     "output_type": "stream",
     "text": [
      "18\n"
     ]
    }
   ],
   "source": [
    "x*=3\n",
    "print(x)"
   ]
  },
  {
   "cell_type": "code",
   "execution_count": 4,
   "id": "364f6191-030f-4a65-8320-4ed60592431c",
   "metadata": {},
   "outputs": [
    {
     "data": {
      "text/plain": [
       "False"
      ]
     },
     "execution_count": 4,
     "metadata": {},
     "output_type": "execute_result"
    }
   ],
   "source": [
    "#Comparision Operatiors\n",
    "2==3\n"
   ]
  },
  {
   "cell_type": "code",
   "execution_count": 5,
   "id": "5b4906d9-c04b-435f-8d07-9db8df86bccc",
   "metadata": {},
   "outputs": [
    {
     "data": {
      "text/plain": [
       "True"
      ]
     },
     "execution_count": 5,
     "metadata": {},
     "output_type": "execute_result"
    }
   ],
   "source": [
    "4>1"
   ]
  },
  {
   "cell_type": "code",
   "execution_count": 6,
   "id": "81407e27-7046-4e0f-8594-7fb1797a9a76",
   "metadata": {},
   "outputs": [
    {
     "data": {
      "text/plain": [
       "False"
      ]
     },
     "execution_count": 6,
     "metadata": {},
     "output_type": "execute_result"
    }
   ],
   "source": [
    "5>=7"
   ]
  },
  {
   "cell_type": "code",
   "execution_count": 9,
   "id": "5a636d32-8182-419b-b1ca-aefb725ef82e",
   "metadata": {},
   "outputs": [
    {
     "data": {
      "text/plain": [
       "False"
      ]
     },
     "execution_count": 9,
     "metadata": {},
     "output_type": "execute_result"
    }
   ],
   "source": [
    "#Logical Operators\n",
    "a= 4\n",
    "b=2\n",
    "a> 2 and b> 4"
   ]
  },
  {
   "cell_type": "code",
   "execution_count": 10,
   "id": "954ccfe3-8534-4421-994a-a424032d6b20",
   "metadata": {},
   "outputs": [
    {
     "data": {
      "text/plain": [
       "True"
      ]
     },
     "execution_count": 10,
     "metadata": {},
     "output_type": "execute_result"
    }
   ],
   "source": [
    "a>2 or b>3"
   ]
  },
  {
   "cell_type": "code",
   "execution_count": null,
   "id": "7d0445f1-9533-4f79-b105-d937b29b769a",
   "metadata": {},
   "outputs": [],
   "source": [
    "#empty string is false eg: \"\" false"
   ]
  },
  {
   "cell_type": "code",
   "execution_count": 11,
   "id": "d63e8c1e-9a26-4452-8f8d-e5034cb6a731",
   "metadata": {},
   "outputs": [
    {
     "data": {
      "text/plain": [
       "False"
      ]
     },
     "execution_count": 11,
     "metadata": {},
     "output_type": "execute_result"
    }
   ],
   "source": [
    "False or True and not True"
   ]
  },
  {
   "cell_type": "code",
   "execution_count": 12,
   "id": "7525dd7c-f7bd-4259-b737-ce7416372644",
   "metadata": {},
   "outputs": [
    {
     "data": {
      "text/plain": [
       "True"
      ]
     },
     "execution_count": 12,
     "metadata": {},
     "output_type": "execute_result"
    }
   ],
   "source": [
    "#identity operator, is\n",
    "x= 3\n",
    "type(x) is int"
   ]
  },
  {
   "cell_type": "code",
   "execution_count": 13,
   "id": "4bd958d7-3e13-4fdd-a84c-c4c14f08ccc8",
   "metadata": {},
   "outputs": [
    {
     "data": {
      "text/plain": [
       "False"
      ]
     },
     "execution_count": 13,
     "metadata": {},
     "output_type": "execute_result"
    }
   ],
   "source": [
    "type(x) is float "
   ]
  },
  {
   "cell_type": "code",
   "execution_count": 14,
   "id": "23eb92bd-0c16-40e3-bfa1-a23c10b79b4f",
   "metadata": {},
   "outputs": [
    {
     "data": {
      "text/plain": [
       "True"
      ]
     },
     "execution_count": 14,
     "metadata": {},
     "output_type": "execute_result"
    }
   ],
   "source": [
    "type(x) is not str"
   ]
  },
  {
   "cell_type": "code",
   "execution_count": 15,
   "id": "93627d1d-1b71-47cf-bf2c-361478b9bef6",
   "metadata": {},
   "outputs": [
    {
     "data": {
      "text/plain": [
       "False"
      ]
     },
     "execution_count": 15,
     "metadata": {},
     "output_type": "execute_result"
    }
   ],
   "source": [
    "type(x) is not int"
   ]
  },
  {
   "cell_type": "code",
   "execution_count": 16,
   "id": "630faf1a-0ee0-40bb-8afc-3c8396cec1b4",
   "metadata": {},
   "outputs": [
    {
     "data": {
      "text/plain": [
       "True"
      ]
     },
     "execution_count": 16,
     "metadata": {},
     "output_type": "execute_result"
    }
   ],
   "source": [
    "#Menbership Operator\n",
    "'h' in \"hello\""
   ]
  },
  {
   "cell_type": "code",
   "execution_count": 17,
   "id": "934aff91-b87c-4e48-8263-f2278f380bf3",
   "metadata": {},
   "outputs": [
    {
     "data": {
      "text/plain": [
       "False"
      ]
     },
     "execution_count": 17,
     "metadata": {},
     "output_type": "execute_result"
    }
   ],
   "source": [
    "\"n\" in \"hello\""
   ]
  },
  {
   "cell_type": "code",
   "execution_count": 18,
   "id": "31595835-2d8f-44b3-af1c-8b2f1ad7ce52",
   "metadata": {},
   "outputs": [
    {
     "data": {
      "text/plain": [
       "2"
      ]
     },
     "execution_count": 18,
     "metadata": {},
     "output_type": "execute_result"
    }
   ],
   "source": [
    "#Bitwise Operators\n",
    "#bitwise and (&)\n",
    "2 & 3\n",
    "#2= 10 (in binary)\n",
    "#3= 11 (in binary)\n",
    "#2| 3= 10 & 11 =>2 in decimal"
   ]
  },
  {
   "cell_type": "markdown",
   "id": "a9091f98-fe72-4188-86c5-0d0259534a0c",
   "metadata": {},
   "source": [
    "# Python List"
   ]
  },
  {
   "cell_type": "code",
   "execution_count": 22,
   "id": "f3125fbb-e306-495d-95e8-4cd690d96293",
   "metadata": {},
   "outputs": [
    {
     "name": "stdout",
     "output_type": "stream",
     "text": [
      "['Apple', 123, True, 3.14]\n"
     ]
    }
   ],
   "source": [
    "#my_list\n",
    "list= [\"Apple\", 123, True, 3.14]\n",
    "print(list)"
   ]
  },
  {
   "cell_type": "code",
   "execution_count": 20,
   "id": "0a98c1b1-310d-4cd7-81c4-6ca3bdbf7d22",
   "metadata": {},
   "outputs": [
    {
     "data": {
      "text/plain": [
       "list"
      ]
     },
     "execution_count": 20,
     "metadata": {},
     "output_type": "execute_result"
    }
   ],
   "source": [
    "type(list)"
   ]
  },
  {
   "cell_type": "code",
   "execution_count": 21,
   "id": "92884b11-42c0-40ae-af15-2dfe5983b448",
   "metadata": {},
   "outputs": [
    {
     "data": {
      "text/plain": [
       "3"
      ]
     },
     "execution_count": 21,
     "metadata": {},
     "output_type": "execute_result"
    }
   ],
   "source": [
    "len(list)"
   ]
  },
  {
   "cell_type": "markdown",
   "id": "7e7c26de-0f0b-4851-8861-d145768c9b18",
   "metadata": {},
   "source": [
    "# Access List Item"
   ]
  },
  {
   "cell_type": "code",
   "execution_count": 24,
   "id": "1acf028f-cb56-4f05-a253-2e66d6c8f505",
   "metadata": {},
   "outputs": [
    {
     "name": "stdout",
     "output_type": "stream",
     "text": [
      "Wed\n",
      "Sat\n"
     ]
    }
   ],
   "source": [
    "days= [\"Sun\", \"Mon\", \"Tue\", \"Wed\", \"Thu\", \"Fri\", \"Sat\"]\n",
    "print(days[3])\n",
    "print(days[-1])"
   ]
  },
  {
   "cell_type": "code",
   "execution_count": 31,
   "id": "257b3227-3e9e-4d5d-afc6-c73c890fcd7a",
   "metadata": {},
   "outputs": [
    {
     "name": "stdout",
     "output_type": "stream",
     "text": [
      "['Mon', 'Tue', 'Wed']\n"
     ]
    },
    {
     "data": {
      "text/plain": [
       "['Fri']"
      ]
     },
     "execution_count": 31,
     "metadata": {},
     "output_type": "execute_result"
    }
   ],
   "source": [
    "#Slicing\n",
    "days_slice= days[1:4]\n",
    "print(days_0_3)\n",
    "days[:5]\n",
    "days[4:]\n",
    "days[5:6]"
   ]
  },
  {
   "cell_type": "code",
   "execution_count": 32,
   "id": "aeb65498-3069-4d1c-9d6d-70ef39b86340",
   "metadata": {},
   "outputs": [
    {
     "data": {
      "text/plain": [
       "False"
      ]
     },
     "execution_count": 32,
     "metadata": {},
     "output_type": "execute_result"
    }
   ],
   "source": [
    "#membership in list\n",
    "\"sat\" in days"
   ]
  },
  {
   "cell_type": "code",
   "execution_count": 34,
   "id": "07ce79b2-3a7b-45f7-a168-2b23d497a053",
   "metadata": {},
   "outputs": [
    {
     "name": "stdout",
     "output_type": "stream",
     "text": [
      "['Sunday', 'Mon', 'Tue', 'Wed', 'Thu', 'Fri', 'Sat']\n"
     ]
    }
   ],
   "source": [
    "days[0]= \"Sunday\"\n",
    "print(days)"
   ]
  },
  {
   "cell_type": "code",
   "execution_count": 36,
   "id": "fbf2a316-50aa-444c-aa2e-cb071306dd9a",
   "metadata": {},
   "outputs": [
    {
     "name": "stdout",
     "output_type": "stream",
     "text": [
      "['Sunday', 'Monday', 'Tuesday', 'Wed', 'Thu', 'Fri', 'Sat']\n"
     ]
    }
   ],
   "source": [
    "days[1:3]= [\"Monday\", \"Tuesday\"]\n",
    "print(days)"
   ]
  },
  {
   "cell_type": "code",
   "execution_count": 38,
   "id": "105192a2-8db2-477d-b0ab-d6bac9d0a445",
   "metadata": {},
   "outputs": [
    {
     "name": "stdout",
     "output_type": "stream",
     "text": [
      "['Sunday', 'Sombar', 'Wed', 'Thursday', 'Friday', 'Sancharabar', 'Sancharabar', 'Sat']\n"
     ]
    }
   ],
   "source": [
    "days[4:6]= [\"Thursday\", \"Friday\", \"Sancharabar\"]\n",
    "days[1:3]= [\"Sombar\"]\n",
    "print(days)"
   ]
  }
 ],
 "metadata": {
  "kernelspec": {
   "display_name": "Python 3 (ipykernel)",
   "language": "python",
   "name": "python3"
  },
  "language_info": {
   "codemirror_mode": {
    "name": "ipython",
    "version": 3
   },
   "file_extension": ".py",
   "mimetype": "text/x-python",
   "name": "python",
   "nbconvert_exporter": "python",
   "pygments_lexer": "ipython3",
   "version": "3.11.7"
  }
 },
 "nbformat": 4,
 "nbformat_minor": 5
}
