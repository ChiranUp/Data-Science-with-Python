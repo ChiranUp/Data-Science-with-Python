{
 "cells": [
  {
   "cell_type": "code",
   "execution_count": 1,
   "id": "6bfc62d1-1c7b-4d9e-afbc-5986d96269f7",
   "metadata": {},
   "outputs": [
    {
     "name": "stdout",
     "output_type": "stream",
     "text": [
      "hello world\n"
     ]
    }
   ],
   "source": [
    "print(\"hello world\")"
   ]
  },
  {
   "cell_type": "code",
   "execution_count": 2,
   "id": "d933de97-fdfe-4c10-a306-fc2902445b5f",
   "metadata": {},
   "outputs": [],
   "source": [
    "#This is a level 1 Heading"
   ]
  },
  {
   "cell_type": "markdown",
   "id": "c9d309f9-c546-4c77-96b7-58a9870a30bf",
   "metadata": {},
   "source": [
    "## This is a level 2 heading.\n",
    "# This is a level 1 heading"
   ]
  },
  {
   "cell_type": "markdown",
   "id": "2965d5ad-f060-4491-b40e-e86ce749ea8f",
   "metadata": {},
   "source": [
    "# Python programming is easy"
   ]
  },
  {
   "cell_type": "markdown",
   "id": "9488aa44-c0bb-412c-82b6-9302211433e1",
   "metadata": {},
   "source": [
    "# This is a markdown not a code"
   ]
  },
  {
   "cell_type": "code",
   "execution_count": null,
   "id": "adc7763c-2b83-4fb0-b5de-013daf17e5de",
   "metadata": {},
   "outputs": [],
   "source": []
  },
  {
   "cell_type": "code",
   "execution_count": null,
   "id": "900d353a-8b67-4fa2-bea0-996715acfb7c",
   "metadata": {},
   "outputs": [],
   "source": []
  },
  {
   "cell_type": "code",
   "execution_count": null,
   "id": "e77c461d-1914-47d2-ba24-e4e615a8b03e",
   "metadata": {},
   "outputs": [],
   "source": []
  },
  {
   "cell_type": "markdown",
   "id": "179f9269-36a4-4811-8669-a0762a0a38b6",
   "metadata": {},
   "source": [
    "#### This how you can add cell"
   ]
  },
  {
   "cell_type": "code",
   "execution_count": null,
   "id": "0ec5e51a-8f5e-4c39-8d53-20d8c4d8b089",
   "metadata": {},
   "outputs": [],
   "source": []
  }
 ],
 "metadata": {
  "kernelspec": {
   "display_name": "Python 3 (ipykernel)",
   "language": "python",
   "name": "python3"
  },
  "language_info": {
   "codemirror_mode": {
    "name": "ipython",
    "version": 3
   },
   "file_extension": ".py",
   "mimetype": "text/x-python",
   "name": "python",
   "nbconvert_exporter": "python",
   "pygments_lexer": "ipython3",
   "version": "3.11.7"
  }
 },
 "nbformat": 4,
 "nbformat_minor": 5
}
