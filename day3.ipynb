{
 "cells": [
  {
   "cell_type": "code",
   "execution_count": 3,
   "id": "c977c217-367d-4c53-a270-7114600f734a",
   "metadata": {},
   "outputs": [
    {
     "name": "stdout",
     "output_type": "stream",
     "text": [
      "['apple', 'cat', 'ball']\n"
     ]
    }
   ],
   "source": [
    "#Remove list\n",
    "list= [\"apple\", \"ball\", \"cat\", \"ball\"]\n",
    "list.remove(\"ball\") #first wala ball remove garxa\n",
    "print(list)"
   ]
  },
  {
   "cell_type": "code",
   "execution_count": 2,
   "id": "e2eef6d3-c52a-44a7-8529-aaf5c6211034",
   "metadata": {},
   "outputs": [
    {
     "name": "stdout",
     "output_type": "stream",
     "text": [
      "['apple']\n"
     ]
    }
   ],
   "source": [
    "list.pop(1)\n",
    "print(list)\n",
    "list.pop()"
   ]
  },
  {
   "cell_type": "code",
   "execution_count": 4,
   "id": "37cd44b6-aade-411c-80bb-700d80f440c1",
   "metadata": {},
   "outputs": [
    {
     "name": "stdout",
     "output_type": "stream",
     "text": [
      "['apple', 'ball']\n"
     ]
    }
   ],
   "source": [
    "del list[1]\n",
    "print(list)"
   ]
  },
  {
   "cell_type": "code",
   "execution_count": 11,
   "id": "6d72669e-d50a-4958-a369-c8eb38063326",
   "metadata": {},
   "outputs": [
    {
     "name": "stdout",
     "output_type": "stream",
     "text": [
      "[]\n"
     ]
    }
   ],
   "source": [
    "list1 =[\"jan\", \"feb\", \"mar\"]\n",
    "list1.clear()\n",
    "print(list1)"
   ]
  },
  {
   "cell_type": "code",
   "execution_count": 12,
   "id": "1f477d4e-4522-48bf-a546-56f8d515517d",
   "metadata": {},
   "outputs": [
    {
     "name": "stdout",
     "output_type": "stream",
     "text": [
      "['apr', 'feb', 'jan', 'mar']\n"
     ]
    }
   ],
   "source": [
    "#Short list\n",
    "# short, pop, methods\n",
    "list_months= [\"jan\", \"feb\", \"mar\", \"apr\"]\n",
    "list_months.sort()\n",
    "print(list_months)"
   ]
  },
  {
   "cell_type": "code",
   "execution_count": 16,
   "id": "eefbf379-4c2f-496b-940e-c280fe92ee64",
   "metadata": {},
   "outputs": [
    {
     "name": "stdout",
     "output_type": "stream",
     "text": [
      "[-8, 2, 3, 5, 7]\n"
     ]
    }
   ],
   "source": [
    "num = [-8, 5,2,7,3]\n",
    "num.sort()\n",
    "print(num)"
   ]
  },
  {
   "cell_type": "code",
   "execution_count": 17,
   "id": "d7db5323-b455-4153-8384-68e2c3c008b4",
   "metadata": {},
   "outputs": [
    {
     "name": "stdout",
     "output_type": "stream",
     "text": [
      "[7, 5, 3, 2, -8]\n"
     ]
    }
   ],
   "source": [
    "num.sort(reverse=True)\n",
    "print(num)"
   ]
  },
  {
   "cell_type": "code",
   "execution_count": 20,
   "id": "ce03680c-67ae-4955-875b-581d917cdc89",
   "metadata": {},
   "outputs": [
    {
     "name": "stdout",
     "output_type": "stream",
     "text": [
      "['Bhairawa', 'Butwan', 'kapan', 'Kathmandu', 'patalisadak']\n"
     ]
    }
   ],
   "source": [
    "cities_list=[\"Kathmandu\", \"Bhairawa\", \"Butwan\", \"kapan\",\"patalisadak\"]\n",
    "cities_list.sort(key=str.lower)\n",
    "print(cities_list)"
   ]
  },
  {
   "cell_type": "code",
   "execution_count": 23,
   "id": "b1e37491-ecfd-47c6-b130-85baccef32ed",
   "metadata": {},
   "outputs": [
    {
     "name": "stdout",
     "output_type": "stream",
     "text": [
      "['apple', 'ball', 'cat']\n"
     ]
    }
   ],
   "source": [
    "#make a copy of list\n",
    "list= [\"apple\", \"ball\", \"cat\"]\n",
    "list_copy= list.copy()\n",
    "print(list_copy)"
   ]
  },
  {
   "cell_type": "code",
   "execution_count": null,
   "id": "61b99ff1-cfcd-4302-9e40-16bdd6b303d7",
   "metadata": {},
   "outputs": [],
   "source": [
    "#Git Push H/w"
   ]
  },
  {
   "cell_type": "code",
   "execution_count": 35,
   "id": "baa5b569-80f0-46e0-bcee-07a55f7e033e",
   "metadata": {},
   "outputs": [
    {
     "ename": "TypeError",
     "evalue": "'list' object is not callable",
     "output_type": "error",
     "traceback": [
      "\u001b[1;31m---------------------------------------------------------------------------\u001b[0m",
      "\u001b[1;31mTypeError\u001b[0m                                 Traceback (most recent call last)",
      "Cell \u001b[1;32mIn[35], line 2\u001b[0m\n\u001b[0;32m      1\u001b[0m list1\u001b[38;5;241m=\u001b[39m[\u001b[38;5;241m3\u001b[39m,\u001b[38;5;241m4\u001b[39m,\u001b[38;5;241m5\u001b[39m]\n\u001b[1;32m----> 2\u001b[0m new_list\u001b[38;5;241m=\u001b[39m \u001b[38;5;28mlist\u001b[39m(list1)\n\u001b[0;32m      3\u001b[0m \u001b[38;5;28mprint\u001b[39m(new_list)\n",
      "\u001b[1;31mTypeError\u001b[0m: 'list' object is not callable"
     ]
    }
   ],
   "source": [
    "list1=[3,4,5]\n",
    "new_list= list(list1)\n",
    "print(new_list)"
   ]
  },
  {
   "cell_type": "code",
   "execution_count": 27,
   "id": "7edf5a81-7497-4a1f-997c-9f12c86e9437",
   "metadata": {},
   "outputs": [
    {
     "name": "stdout",
     "output_type": "stream",
     "text": [
      "[1, 2, 3, 'hi', 'hello', 1, 2, 3]\n",
      "[1, 2, 3]\n"
     ]
    }
   ],
   "source": [
    "list1= [1,2,3]\n",
    "list2= [\"hi\", \"hello\"]\n",
    "list12= list1 + list2 + list1\n",
    "print(list12)\n",
    "print(list1)"
   ]
  },
  {
   "cell_type": "code",
   "execution_count": 34,
   "id": "b08afd0c-6577-4142-a000-26de3d5491df",
   "metadata": {},
   "outputs": [
    {
     "name": "stdin",
     "output_type": "stream",
     "text": [
      "Enter your age: 12\n"
     ]
    },
    {
     "name": "stdout",
     "output_type": "stream",
     "text": [
      "You are minor!\n"
     ]
    }
   ],
   "source": [
    "#Python Conditionals\n",
    "age= int(input(\"Enter your age:\"))\n",
    "if age>18: # : means i am continuing \n",
    "    print(\"You can vote\")\n",
    "print(\"You are minor!\")"
   ]
  },
  {
   "cell_type": "code",
   "execution_count": 46,
   "id": "5d784f58-65db-4225-8e49-cc1cf6827508",
   "metadata": {},
   "outputs": [
    {
     "name": "stdout",
     "output_type": "stream",
     "text": [
      "I will drink juice\n"
     ]
    }
   ],
   "source": [
    "cash= 2\n",
    "if cash==100:\n",
    "    print(\"I will have Coke and Samosa\")\n",
    "elif cash<=50:\n",
    "    print(\"I will drink juice\")\n",
    "elif cash<=30:\n",
    "    pint(\"I will drint tea\")\n",
    "else:\n",
    "    print(\"I will eat biscuit\")\n"
   ]
  },
  {
   "cell_type": "code",
   "execution_count": 48,
   "id": "29e6567b-1263-4019-bfe1-3da8fc94029c",
   "metadata": {},
   "outputs": [
    {
     "name": "stdout",
     "output_type": "stream",
     "text": [
      "x is not equal to 2\n"
     ]
    }
   ],
   "source": [
    "#Short-hand if else\n",
    "x= 5\n",
    "print(\"x is equal to 2\") if x==2 else print(\"x is not equal to 2\")\n"
   ]
  }
 ],
 "metadata": {
  "kernelspec": {
   "display_name": "Python 3 (ipykernel)",
   "language": "python",
   "name": "python3"
  },
  "language_info": {
   "codemirror_mode": {
    "name": "ipython",
    "version": 3
   },
   "file_extension": ".py",
   "mimetype": "text/x-python",
   "name": "python",
   "nbconvert_exporter": "python",
   "pygments_lexer": "ipython3",
   "version": "3.11.7"
  }
 },
 "nbformat": 4,
 "nbformat_minor": 5
}
